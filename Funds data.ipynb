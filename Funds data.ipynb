{
 "cells": [
  {
   "cell_type": "code",
   "execution_count": 2,
   "id": "491ab6cd",
   "metadata": {},
   "outputs": [],
   "source": [
    "import os\n",
    "import time\n",
    "import xml.etree.cElementTree as ET\n",
    "tree = ET.parse('./registry.rdf')\n",
    "root = tree.getroot()\n",
    "number_of_element = len(root)\n",
    "rdf=\"http://www.w3.org/1999/02/22-rdf-syntax-ns#\"\n",
    "xml=\"http://www.w3.org/XML/1998/namespace\"\n",
    "dct=\"http://purl.org/dc/terms/\"\n",
    "skos=\"http://www.w3.org/2004/02/skos/core#\"\n",
    "skosxl=\"http://www.w3.org/2008/05/skos-xl#\"\n",
    "svf=\"http://data.crossref.org/fundingdata/xml/schema/grant/grant-1.2/\"\n",
    "rdfs=\"http://www.w3.org/2000/01/rdf-schema#\"\n",
    "fref=\"http://data.crossref.org/fundingdata/terms\"\n",
    "schema = \"https://none.schema.org/\""
   ]
  },
  {
   "cell_type": "code",
   "execution_count": 3,
   "id": "2fe18f0e",
   "metadata": {},
   "outputs": [
    {
     "data": {
      "text/plain": [
       "32250"
      ]
     },
     "execution_count": 3,
     "metadata": {},
     "output_type": "execute_result"
    }
   ],
   "source": [
    "number_of_element"
   ]
  },
  {
   "cell_type": "code",
   "execution_count": 4,
   "id": "d386c077",
   "metadata": {},
   "outputs": [],
   "source": [
    "fund_filtered_data = []\n",
    "def search_rec(node: ET, elem):\n",
    "    #print(node.tag)\n",
    "    if node.tag != elem:\n",
    "        res = set()\n",
    "        for child in node:\n",
    "            res.add(search_rec(child, elem))\n",
    "        for i in res:\n",
    "            if i != None:\n",
    "                return i\n",
    "        return None\n",
    "    else:\n",
    "        return node.text\n",
    "\n",
    "for child in root:\n",
    "    if str(child.tag) == \"{%s}Concept\"% skos:\n",
    "        # here on every fund\n",
    "        fund_url = child.get('{%s}about'%rdf)\n",
    "        fund_org_name = search_rec(child, \"{%s}literalForm\"%skosxl)\n",
    "        fund_org_region = search_rec(child, \"{%s}region\"%svf)\n",
    "        fund_country = search_rec(child, \"{%s}addressCountry\"%schema)\n",
    "        fund_type = search_rec(child, \"{%s}fundingBodySubType\"%svf)\n",
    "        fund_filtered_data.append((fund_org_name, fund_org_region, fund_country, fund_type, fund_url))\n",
    "        \n",
    "      \n",
    "        "
   ]
  },
  {
   "cell_type": "code",
   "execution_count": 5,
   "id": "ec586fc0",
   "metadata": {},
   "outputs": [
    {
     "name": "stdout",
     "output_type": "stream",
     "text": [
      "('USNSF', 'Americas', 'usa', 'National government', 'http://dx.doi.org/10.13039/100000001')\n",
      "('Institutos Nacionales de la Salud', 'Americas', 'usa', 'National government', 'http://dx.doi.org/10.13039/100000002')\n",
      "('Boeing Company', 'Americas', 'usa', 'For-profit companies (industry)', 'http://dx.doi.org/10.13039/100000003')\n",
      "('United States Department of Defense', 'Americas', 'usa', 'National government', 'http://dx.doi.org/10.13039/100000005')\n",
      "('Naval Research', 'Americas', 'usa', 'National government', 'http://dx.doi.org/10.13039/100000006')\n",
      "('Packard Foundation', 'Americas', 'usa', 'Trusts, charities, foundations (both public and private)', 'http://dx.doi.org/10.13039/100000008')\n",
      "('Foundation for the National Institutes of Health Inc', 'Americas', 'usa', 'Trusts, charities, foundations (both public and private)', 'http://dx.doi.org/10.13039/100000009')\n",
      "('The Ford Foundation', 'Americas', 'usa', 'Trusts, charities, foundations (both public and private)', 'http://dx.doi.org/10.13039/100000010')\n",
      "('HHMI', 'Americas', 'usa', 'Trusts, charities, foundations (both public and private)', 'http://dx.doi.org/10.13039/100000011')\n",
      "('Smithsonian', 'Americas', 'usa', 'National government', 'http://dx.doi.org/10.13039/100000014')\n",
      "('Department of Energy', 'Americas', 'usa', 'National government', 'http://dx.doi.org/10.13039/100000015')\n",
      "('United States Department of Health and Human Services', 'Americas', 'usa', 'National government', 'http://dx.doi.org/10.13039/100000016')\n",
      "('Fundación Nacional de la Hemofilia', 'Americas', 'usa', 'Trusts, charities, foundations (both public and private)', 'http://dx.doi.org/10.13039/100000019')\n",
      "('Instituto Nacional de la Salud Mental', 'Americas', 'usa', 'National government', 'http://dx.doi.org/10.13039/100000025')\n",
      "('NIDA', 'Americas', 'usa', 'National government', 'http://dx.doi.org/10.13039/100000026')\n",
      "('National Institute on Alcohol Abuse and Alcoholism', 'Americas', 'usa', 'National government', 'http://dx.doi.org/10.13039/100000027')\n",
      "('Semiconductor Research Corp.', 'Americas', 'usa', 'For-profit companies (industry)', 'http://dx.doi.org/10.13039/100000028')\n",
      "('Centros para el Control y la Prevención de Enfermedades', 'Americas', 'usa', 'National government', 'http://dx.doi.org/10.13039/100000030')\n",
      "('United States Food and Drug Administration', 'Americas', 'usa', 'National government', 'http://dx.doi.org/10.13039/100000038')\n",
      "(\"American Parkinson's Disease Foundation\", 'Americas', 'usa', 'Trusts, charities, foundations (both public and private)', 'http://dx.doi.org/10.13039/100000040')\n",
      "('American Diabetes Association, Inc.', 'Americas', 'usa', 'Associations and societies (private and public)', 'http://dx.doi.org/10.13039/100000041')\n",
      "('Amgen Foundation Inc', 'Americas', 'usa', 'Trusts, charities, foundations (both public and private)', 'http://dx.doi.org/10.13039/100000042')\n",
      "('AMERICAN ASSOCIATION FOR CANCER RESEARCH INC', 'Americas', 'usa', 'Trusts, charities, foundations (both public and private)', 'http://dx.doi.org/10.13039/100000043')\n",
      "('Aetna Foundation', 'Americas', 'usa', 'Trusts, charities, foundations (both public and private)', 'http://dx.doi.org/10.13039/100000045')\n",
      "('The Abbott Fund', 'Americas', 'usa', 'Trusts, charities, foundations (both public and private)', 'http://dx.doi.org/10.13039/100000046')\n",
      "('The Annenberg Foundation', 'Americas', 'usa', 'Trusts, charities, foundations (both public and private)', 'http://dx.doi.org/10.13039/100000047')\n",
      "('ACS', 'Americas', 'usa', 'Associations and societies (private and public)', 'http://dx.doi.org/10.13039/100000048')\n",
      "('U.S. National Institute on Aging', 'Americas', 'usa', 'National government', 'http://dx.doi.org/10.13039/100000049')\n",
      "('NIH/National Heart, Lung and Blood Institute', 'Americas', 'usa', 'National government', 'http://dx.doi.org/10.13039/100000050')\n",
      "('National Human Genome Research Institute', 'Americas', 'usa', 'National government', 'http://dx.doi.org/10.13039/100000051')\n",
      "('The Office of the Director', 'Americas', 'usa', 'National government', 'http://dx.doi.org/10.13039/100000052')\n",
      "('NEI', 'Americas', 'usa', 'National government', 'http://dx.doi.org/10.13039/100000053')\n",
      "('National Cancer Institute', 'Americas', 'usa', 'National government', 'http://dx.doi.org/10.13039/100000054')\n",
      "('National Institute on Deafness and Other Communication Disorders', 'Americas', 'usa', 'National government', 'http://dx.doi.org/10.13039/100000055')\n",
      "('NINR', 'Americas', 'usa', 'National government', 'http://dx.doi.org/10.13039/100000056')\n",
      "('National Institute of General Medical Sciences', 'Americas', 'usa', 'National government', 'http://dx.doi.org/10.13039/100000057')\n",
      "('U.S. Substance Abuse and Mental Health Services Administration', 'Americas', 'usa', 'National government', 'http://dx.doi.org/10.13039/100000058')\n",
      "('Instituto Nacional de Alergias y Enfermedades Infecciosas', 'Americas', 'usa', 'National government', 'http://dx.doi.org/10.13039/100000060')\n",
      "('John Edward Fogarty International Center', 'Americas', 'usa', 'Research institutes and centers', 'http://dx.doi.org/10.13039/100000061')\n",
      "('National Institute of Diabetes & Digestive & Kidney Diseases', 'Americas', 'usa', 'National government', 'http://dx.doi.org/10.13039/100000062')\n"
     ]
    }
   ],
   "source": [
    "for i in range(40):\n",
    "    print(fund_filtered_data[i])"
   ]
  },
  {
   "cell_type": "code",
   "execution_count": 6,
   "id": "79345d15",
   "metadata": {},
   "outputs": [],
   "source": [
    "import pandas as pd \n",
    "all_orgs = pd.DataFrame(fund_filtered_data, columns=['Name','region','country','type','url'])\n"
   ]
  },
  {
   "cell_type": "code",
   "execution_count": 7,
   "id": "5edcdb12",
   "metadata": {},
   "outputs": [
    {
     "data": {
      "text/html": [
       "<div>\n",
       "<style scoped>\n",
       "    .dataframe tbody tr th:only-of-type {\n",
       "        vertical-align: middle;\n",
       "    }\n",
       "\n",
       "    .dataframe tbody tr th {\n",
       "        vertical-align: top;\n",
       "    }\n",
       "\n",
       "    .dataframe thead th {\n",
       "        text-align: right;\n",
       "    }\n",
       "</style>\n",
       "<table border=\"1\" class=\"dataframe\">\n",
       "  <thead>\n",
       "    <tr style=\"text-align: right;\">\n",
       "      <th></th>\n",
       "      <th>Name</th>\n",
       "      <th>region</th>\n",
       "      <th>country</th>\n",
       "      <th>type</th>\n",
       "      <th>url</th>\n",
       "    </tr>\n",
       "  </thead>\n",
       "  <tbody>\n",
       "    <tr>\n",
       "      <th>0</th>\n",
       "      <td>USNSF</td>\n",
       "      <td>Americas</td>\n",
       "      <td>usa</td>\n",
       "      <td>National government</td>\n",
       "      <td>http://dx.doi.org/10.13039/100000001</td>\n",
       "    </tr>\n",
       "    <tr>\n",
       "      <th>1</th>\n",
       "      <td>Institutos Nacionales de la Salud</td>\n",
       "      <td>Americas</td>\n",
       "      <td>usa</td>\n",
       "      <td>National government</td>\n",
       "      <td>http://dx.doi.org/10.13039/100000002</td>\n",
       "    </tr>\n",
       "    <tr>\n",
       "      <th>2</th>\n",
       "      <td>Boeing Company</td>\n",
       "      <td>Americas</td>\n",
       "      <td>usa</td>\n",
       "      <td>For-profit companies (industry)</td>\n",
       "      <td>http://dx.doi.org/10.13039/100000003</td>\n",
       "    </tr>\n",
       "    <tr>\n",
       "      <th>3</th>\n",
       "      <td>United States Department of Defense</td>\n",
       "      <td>Americas</td>\n",
       "      <td>usa</td>\n",
       "      <td>National government</td>\n",
       "      <td>http://dx.doi.org/10.13039/100000005</td>\n",
       "    </tr>\n",
       "    <tr>\n",
       "      <th>4</th>\n",
       "      <td>Naval Research</td>\n",
       "      <td>Americas</td>\n",
       "      <td>usa</td>\n",
       "      <td>National government</td>\n",
       "      <td>http://dx.doi.org/10.13039/100000006</td>\n",
       "    </tr>\n",
       "    <tr>\n",
       "      <th>...</th>\n",
       "      <td>...</td>\n",
       "      <td>...</td>\n",
       "      <td>...</td>\n",
       "      <td>...</td>\n",
       "      <td>...</td>\n",
       "    </tr>\n",
       "    <tr>\n",
       "      <th>32243</th>\n",
       "      <td>Rembrandt Institute for Cardiovascular Sciences</td>\n",
       "      <td>Europe</td>\n",
       "      <td>nld</td>\n",
       "      <td>Research institutes and centers</td>\n",
       "      <td>http://dx.doi.org/10.13039/501100023406</td>\n",
       "    </tr>\n",
       "    <tr>\n",
       "      <th>32244</th>\n",
       "      <td>VDN</td>\n",
       "      <td>Europe</td>\n",
       "      <td>nld</td>\n",
       "      <td>Associations and societies (private and public)</td>\n",
       "      <td>http://dx.doi.org/10.13039/501100023407</td>\n",
       "    </tr>\n",
       "    <tr>\n",
       "      <th>32245</th>\n",
       "      <td>Kara Technologies</td>\n",
       "      <td>Europe</td>\n",
       "      <td>nld</td>\n",
       "      <td>For-profit companies (industry)</td>\n",
       "      <td>http://dx.doi.org/10.13039/501100023408</td>\n",
       "    </tr>\n",
       "    <tr>\n",
       "      <th>32246</th>\n",
       "      <td>The Wilderness Trust</td>\n",
       "      <td>Africa</td>\n",
       "      <td>zaf</td>\n",
       "      <td>Trusts, charities, foundations (both public an...</td>\n",
       "      <td>http://dx.doi.org/10.13039/501100023409</td>\n",
       "    </tr>\n",
       "    <tr>\n",
       "      <th>32247</th>\n",
       "      <td>Snow Medical Research Foundation</td>\n",
       "      <td>Oceania</td>\n",
       "      <td>aus</td>\n",
       "      <td>Trusts, charities, foundations (both public an...</td>\n",
       "      <td>http://dx.doi.org/10.13039/501100023410</td>\n",
       "    </tr>\n",
       "  </tbody>\n",
       "</table>\n",
       "<p>32248 rows × 5 columns</p>\n",
       "</div>"
      ],
      "text/plain": [
       "                                                  Name    region country  \\\n",
       "0                                                USNSF  Americas     usa   \n",
       "1                    Institutos Nacionales de la Salud  Americas     usa   \n",
       "2                                       Boeing Company  Americas     usa   \n",
       "3                  United States Department of Defense  Americas     usa   \n",
       "4                                       Naval Research  Americas     usa   \n",
       "...                                                ...       ...     ...   \n",
       "32243  Rembrandt Institute for Cardiovascular Sciences    Europe     nld   \n",
       "32244                                              VDN    Europe     nld   \n",
       "32245                                Kara Technologies    Europe     nld   \n",
       "32246                             The Wilderness Trust    Africa     zaf   \n",
       "32247                 Snow Medical Research Foundation   Oceania     aus   \n",
       "\n",
       "                                                    type  \\\n",
       "0                                    National government   \n",
       "1                                    National government   \n",
       "2                        For-profit companies (industry)   \n",
       "3                                    National government   \n",
       "4                                    National government   \n",
       "...                                                  ...   \n",
       "32243                    Research institutes and centers   \n",
       "32244    Associations and societies (private and public)   \n",
       "32245                    For-profit companies (industry)   \n",
       "32246  Trusts, charities, foundations (both public an...   \n",
       "32247  Trusts, charities, foundations (both public an...   \n",
       "\n",
       "                                           url  \n",
       "0         http://dx.doi.org/10.13039/100000001  \n",
       "1         http://dx.doi.org/10.13039/100000002  \n",
       "2         http://dx.doi.org/10.13039/100000003  \n",
       "3         http://dx.doi.org/10.13039/100000005  \n",
       "4         http://dx.doi.org/10.13039/100000006  \n",
       "...                                        ...  \n",
       "32243  http://dx.doi.org/10.13039/501100023406  \n",
       "32244  http://dx.doi.org/10.13039/501100023407  \n",
       "32245  http://dx.doi.org/10.13039/501100023408  \n",
       "32246  http://dx.doi.org/10.13039/501100023409  \n",
       "32247  http://dx.doi.org/10.13039/501100023410  \n",
       "\n",
       "[32248 rows x 5 columns]"
      ]
     },
     "execution_count": 7,
     "metadata": {},
     "output_type": "execute_result"
    }
   ],
   "source": [
    "all_orgs"
   ]
  },
  {
   "cell_type": "markdown",
   "id": "cd5f523f",
   "metadata": {},
   "source": [
    "## saving to csv file"
   ]
  },
  {
   "cell_type": "code",
   "execution_count": 8,
   "id": "f09afea1",
   "metadata": {},
   "outputs": [],
   "source": [
    "all_orgs.to_csv('formated_data.csv')"
   ]
  },
  {
   "cell_type": "code",
   "execution_count": 9,
   "id": "23f9e09d",
   "metadata": {},
   "outputs": [],
   "source": [
    "egyption_orgs = all_orgs.loc[all_orgs['country'] == 'egy'] \n"
   ]
  },
  {
   "cell_type": "code",
   "execution_count": 10,
   "id": "c78371c4",
   "metadata": {
    "scrolled": true
   },
   "outputs": [
    {
     "data": {
      "text/html": [
       "<div>\n",
       "<style scoped>\n",
       "    .dataframe tbody tr th:only-of-type {\n",
       "        vertical-align: middle;\n",
       "    }\n",
       "\n",
       "    .dataframe tbody tr th {\n",
       "        vertical-align: top;\n",
       "    }\n",
       "\n",
       "    .dataframe thead th {\n",
       "        text-align: right;\n",
       "    }\n",
       "</style>\n",
       "<table border=\"1\" class=\"dataframe\">\n",
       "  <thead>\n",
       "    <tr style=\"text-align: right;\">\n",
       "      <th></th>\n",
       "      <th>Name</th>\n",
       "      <th>region</th>\n",
       "      <th>country</th>\n",
       "      <th>type</th>\n",
       "      <th>url</th>\n",
       "    </tr>\n",
       "  </thead>\n",
       "  <tbody>\n",
       "    <tr>\n",
       "      <th>4098</th>\n",
       "      <td>U.S. - Egypt Joint Board</td>\n",
       "      <td>Africa</td>\n",
       "      <td>egy</td>\n",
       "      <td>National government</td>\n",
       "      <td>http://dx.doi.org/10.13039/100007198</td>\n",
       "    </tr>\n",
       "    <tr>\n",
       "      <th>4686</th>\n",
       "      <td>NRC</td>\n",
       "      <td>Africa</td>\n",
       "      <td>egy</td>\n",
       "      <td>National government</td>\n",
       "      <td>http://dx.doi.org/10.13039/100007787</td>\n",
       "    </tr>\n",
       "    <tr>\n",
       "      <th>4744</th>\n",
       "      <td>MCIT</td>\n",
       "      <td>Africa</td>\n",
       "      <td>egy</td>\n",
       "      <td>National government</td>\n",
       "      <td>http://dx.doi.org/10.13039/100007845</td>\n",
       "    </tr>\n",
       "    <tr>\n",
       "      <th>4745</th>\n",
       "      <td>National Telecommunication Regulatory Authority</td>\n",
       "      <td>Africa</td>\n",
       "      <td>egy</td>\n",
       "      <td>National government</td>\n",
       "      <td>http://dx.doi.org/10.13039/100007846</td>\n",
       "    </tr>\n",
       "    <tr>\n",
       "      <th>9508</th>\n",
       "      <td>Egyptian Cultural and Educational Bureau</td>\n",
       "      <td>Africa</td>\n",
       "      <td>egy</td>\n",
       "      <td>Local government</td>\n",
       "      <td>http://dx.doi.org/10.13039/100012819</td>\n",
       "    </tr>\n",
       "    <tr>\n",
       "      <th>...</th>\n",
       "      <td>...</td>\n",
       "      <td>...</td>\n",
       "      <td>...</td>\n",
       "      <td>...</td>\n",
       "      <td>...</td>\n",
       "    </tr>\n",
       "    <tr>\n",
       "      <th>31101</th>\n",
       "      <td>Université Damietta</td>\n",
       "      <td>Africa</td>\n",
       "      <td>egy</td>\n",
       "      <td>Universities (academic only)</td>\n",
       "      <td>http://dx.doi.org/10.13039/501100021124</td>\n",
       "    </tr>\n",
       "    <tr>\n",
       "      <th>31182</th>\n",
       "      <td>Faculty Of Science Zagazig University</td>\n",
       "      <td>Africa</td>\n",
       "      <td>egy</td>\n",
       "      <td>Universities (academic only)</td>\n",
       "      <td>http://dx.doi.org/10.13039/501100021256</td>\n",
       "    </tr>\n",
       "    <tr>\n",
       "      <th>31312</th>\n",
       "      <td>l’Université de Suez</td>\n",
       "      <td>Africa</td>\n",
       "      <td>egy</td>\n",
       "      <td>Universities (academic only)</td>\n",
       "      <td>http://dx.doi.org/10.13039/501100021546</td>\n",
       "    </tr>\n",
       "    <tr>\n",
       "      <th>31532</th>\n",
       "      <td>South Valley University</td>\n",
       "      <td>Africa</td>\n",
       "      <td>egy</td>\n",
       "      <td>Universities (academic only)</td>\n",
       "      <td>http://dx.doi.org/10.13039/501100022025</td>\n",
       "    </tr>\n",
       "    <tr>\n",
       "      <th>31533</th>\n",
       "      <td>ASWU</td>\n",
       "      <td>Africa</td>\n",
       "      <td>egy</td>\n",
       "      <td>Universities (academic only)</td>\n",
       "      <td>http://dx.doi.org/10.13039/501100022026</td>\n",
       "    </tr>\n",
       "  </tbody>\n",
       "</table>\n",
       "<p>76 rows × 5 columns</p>\n",
       "</div>"
      ],
      "text/plain": [
       "                                                  Name  region country  \\\n",
       "4098                          U.S. - Egypt Joint Board  Africa     egy   \n",
       "4686                                               NRC  Africa     egy   \n",
       "4744                                              MCIT  Africa     egy   \n",
       "4745   National Telecommunication Regulatory Authority  Africa     egy   \n",
       "9508          Egyptian Cultural and Educational Bureau  Africa     egy   \n",
       "...                                                ...     ...     ...   \n",
       "31101                              Université Damietta  Africa     egy   \n",
       "31182            Faculty Of Science Zagazig University  Africa     egy   \n",
       "31312                             l’Université de Suez  Africa     egy   \n",
       "31532                          South Valley University  Africa     egy   \n",
       "31533                                             ASWU  Africa     egy   \n",
       "\n",
       "                               type                                      url  \n",
       "4098            National government     http://dx.doi.org/10.13039/100007198  \n",
       "4686            National government     http://dx.doi.org/10.13039/100007787  \n",
       "4744            National government     http://dx.doi.org/10.13039/100007845  \n",
       "4745            National government     http://dx.doi.org/10.13039/100007846  \n",
       "9508               Local government     http://dx.doi.org/10.13039/100012819  \n",
       "...                             ...                                      ...  \n",
       "31101  Universities (academic only)  http://dx.doi.org/10.13039/501100021124  \n",
       "31182  Universities (academic only)  http://dx.doi.org/10.13039/501100021256  \n",
       "31312  Universities (academic only)  http://dx.doi.org/10.13039/501100021546  \n",
       "31532  Universities (academic only)  http://dx.doi.org/10.13039/501100022025  \n",
       "31533  Universities (academic only)  http://dx.doi.org/10.13039/501100022026  \n",
       "\n",
       "[76 rows x 5 columns]"
      ]
     },
     "execution_count": 10,
     "metadata": {},
     "output_type": "execute_result"
    }
   ],
   "source": [
    "egyption_orgs"
   ]
  },
  {
   "cell_type": "code",
   "execution_count": 11,
   "id": "93607896",
   "metadata": {},
   "outputs": [],
   "source": [
    "arab_country_names = {\n",
    "    'dza',\n",
    "    'bhr',\n",
    "    'com',\n",
    "    'egy',\n",
    "    'irq',\n",
    "    'jor',\n",
    "    'kwt',\n",
    "    'lbn',\n",
    "    'lby',\n",
    "    'mar',\n",
    "    'mrt',\n",
    "    'omn',\n",
    "    'qat',\n",
    "    'sau',\n",
    "    'som',\n",
    "    'are'\n",
    "}"
   ]
  },
  {
   "cell_type": "code",
   "execution_count": 12,
   "id": "0d2eecf3",
   "metadata": {},
   "outputs": [],
   "source": [
    "arab_orgs = {}\n",
    "for x in arab_country_names:\n",
    "    arab_orgs[x]=  all_orgs.loc[all_orgs['country'] == x]"
   ]
  },
  {
   "cell_type": "markdown",
   "id": "c2235102",
   "metadata": {},
   "source": [
    "# Pie-chart classifying Egy orgs by TYPE"
   ]
  },
  {
   "cell_type": "code",
   "execution_count": 13,
   "id": "7a04d305",
   "metadata": {},
   "outputs": [
    {
     "data": {
      "image/png": "[encoded data removed]",
      "text/plain": [
       "<Figure size 432x288 with 1 Axes>"
      ]
     },
     "metadata": {},
     "output_type": "display_data"
    }
   ],
   "source": [
    "import matplotlib.pyplot as plt\n",
    "import numpy as np\n",
    "\n",
    "counts = {}\n",
    "for name in egyption_orgs['type']:\n",
    "    if counts.get(name) != None:\n",
    "        counts[name] += 1\n",
    "    else:\n",
    "        counts[name] = 1\n",
    "y = []\n",
    "labels = []\n",
    "for name, count in counts.items():\n",
    "    y.append(count)\n",
    "    labels.append(name)\n",
    "\n",
    "\n",
    "plt.pie(y, labels = labels)\n",
    "plt.show() "
   ]
  },
  {
   "cell_type": "markdown",
   "id": "b3c6415c",
   "metadata": {},
   "source": [
    "# The highest number of non-profit, non-governmental research funders."
   ]
  },
  {
   "cell_type": "code",
   "execution_count": 14,
   "id": "435b974c",
   "metadata": {},
   "outputs": [],
   "source": [
    "result = []\n",
    "for name, data in arab_orgs.items():\n",
    "    data = data.loc[(data['type'] != 'For-profit companies (industry)') |\n",
    "             (data['type'] != 'National government') | \n",
    "             (data['type'] != \"Local government\")]\n",
    "    result.append((len(data), name))"
   ]
  },
  {
   "cell_type": "code",
   "execution_count": 15,
   "id": "5fcb8d84",
   "metadata": {},
   "outputs": [
    {
     "name": "stdout",
     "output_type": "stream",
     "text": [
      "[(8, 'omn'), (26, 'jor'), (48, 'are'), (2, 'lby'), (76, 'egy'), (25, 'irq'), (24, 'mar'), (0, 'som'), (3, 'bhr'), (0, 'com'), (93, 'sau'), (20, 'qat'), (10, 'kwt'), (11, 'dza'), (0, 'mrt'), (23, 'lbn')]\n"
     ]
    },
    {
     "data": {
      "image/png": "[encoded data removed]",
      "text/plain": [
       "<Figure size 720x360 with 1 Axes>"
      ]
     },
     "metadata": {
      "needs_background": "light"
     },
     "output_type": "display_data"
    }
   ],
   "source": [
    "sorted(result, key=lambda x: x[0])\n",
    "print(result)\n",
    "countries = [x[1].upper() for x in result]\n",
    "values = [x[0] for x in result]\n",
    "fig = plt.figure(figsize = (10, 5))\n",
    "plt.bar(countries, values)\n",
    "plt.xlabel(\"Countries\")\n",
    "plt.ylabel(\"No. of orgs\")\n",
    "plt.show()"
   ]
  }
 ],
 "metadata": {
  "kernelspec": {
   "display_name": "Python 3 (ipykernel)",
   "language": "python",
   "name": "python3"
  },
  "language_info": {
   "codemirror_mode": {
    "name": "ipython",
    "version": 3
   },
   "file_extension": ".py",
   "mimetype": "text/x-python",
   "name": "python",
   "nbconvert_exporter": "python",
   "pygments_lexer": "ipython3",
   "version": "3.9.12"
  }
 },
 "nbformat": 4,
 "nbformat_minor": 5
}
